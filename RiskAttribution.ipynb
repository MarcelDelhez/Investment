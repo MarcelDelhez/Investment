{
 "cells": [
  {
   "cell_type": "markdown",
   "id": "f748463a-cbf9-4073-b5b4-cdccc9535f00",
   "metadata": {},
   "source": [
    "# Study of risk allocation\n",
    "Lets assume we measure the risk based on CVaR with confidence level of 95%."
   ]
  },
  {
   "cell_type": "markdown",
   "id": "c3337dc6-eb1e-4e8c-a563-419c82e8f2ff",
   "metadata": {},
   "source": [
    "## Calculate instrument's risk."
   ]
  },
  {
   "cell_type": "code",
   "execution_count": 1,
   "id": "83263048-8944-4349-a0e0-8cfb7938f9ed",
   "metadata": {},
   "outputs": [
    {
     "name": "stdout",
     "output_type": "stream",
     "text": [
      "[*********************100%***********************]  8 of 8 completed\n"
     ]
    },
    {
     "data": {
      "text/html": [
       "<H3>VaRs are:</H3>"
      ],
      "text/plain": [
       "<IPython.core.display.HTML object>"
      ]
     },
     "metadata": {},
     "output_type": "display_data"
    },
    {
     "data": {
      "text/html": [
       "<table border=\"1\" class=\"dataframe\">\n",
       "  <thead>\n",
       "    <tr style=\"text-align: right;\">\n",
       "      <th></th>\n",
       "      <th>AAPL</th>\n",
       "      <th>ALB</th>\n",
       "      <th>AMZN</th>\n",
       "      <th>JD</th>\n",
       "      <th>MSFT</th>\n",
       "      <th>PDD</th>\n",
       "      <th>ROST</th>\n",
       "      <th>VYM</th>\n",
       "    </tr>\n",
       "  </thead>\n",
       "  <tbody>\n",
       "    <tr>\n",
       "      <th>0</th>\n",
       "      <td>-0.036899</td>\n",
       "      <td>-0.054848</td>\n",
       "      <td>-0.052567</td>\n",
       "      <td>-0.076699</td>\n",
       "      <td>-0.037184</td>\n",
       "      <td>-0.104702</td>\n",
       "      <td>-0.044756</td>\n",
       "      <td>-0.01862</td>\n",
       "    </tr>\n",
       "  </tbody>\n",
       "</table>"
      ],
      "text/plain": [
       "<IPython.core.display.HTML object>"
      ]
     },
     "metadata": {},
     "output_type": "display_data"
    }
   ],
   "source": [
    "import numpy as np\n",
    "import pandas as pd\n",
    "import yfinance as yf\n",
    "from tabulate import tabulate\n",
    "from datetime import date\n",
    "\n",
    "# Plotting\n",
    "import matplotlib.pyplot as plt\n",
    "import seaborn\n",
    "from IPython.display import display, HTML\n",
    "\n",
    "#Statistical calculation\n",
    "import math\n",
    "from scipy.stats import norm\n",
    "\n",
    "# Retrieve stock prices\n",
    "stocks=['AMZN', 'AAPL', 'MSFT', 'ROST', 'JD', 'PDD', 'VYM', 'ALB']\n",
    "stocks.sort()\n",
    "prices = yf.download(stocks, \"2022-01-01\", \"2023-02-01\")['Adj Close']\n",
    "# Calculate VaR for each instrument.\n",
    "rets=prices.pct_change().dropna()\n",
    "VaRs=pd.DataFrame(np.reshape(norm.ppf(1-0.95, np.mean(rets, axis=0), np.std(rets, axis=0)),(1,len(stocks))), columns=stocks)\n",
    "display(HTML(\"<H3>VaRs are:</H3>\"))\n",
    "display(HTML(VaRs.to_html()))"
   ]
  },
  {
   "cell_type": "markdown",
   "id": "a845b613-69be-4f26-9612-b8e81870bb92",
   "metadata": {},
   "source": [
    "## Calculate risk contribution."
   ]
  },
  {
   "cell_type": "code",
   "execution_count": 2,
   "id": "3a98eb1b-d8cc-4a52-b229-4de11d10bb2e",
   "metadata": {},
   "outputs": [
    {
     "data": {
      "text/html": [
       "<H3>Portfolio composition:</H3>"
      ],
      "text/plain": [
       "<IPython.core.display.HTML object>"
      ]
     },
     "metadata": {},
     "output_type": "display_data"
    },
    {
     "data": {
      "text/html": [
       "<table border=\"1\" class=\"dataframe\">\n",
       "  <thead>\n",
       "    <tr style=\"text-align: right;\">\n",
       "      <th></th>\n",
       "      <th>AAPL</th>\n",
       "      <th>ALB</th>\n",
       "      <th>AMZN</th>\n",
       "      <th>JD</th>\n",
       "      <th>MSFT</th>\n",
       "      <th>PDD</th>\n",
       "      <th>ROST</th>\n",
       "      <th>VYM</th>\n",
       "    </tr>\n",
       "  </thead>\n",
       "  <tbody>\n",
       "    <tr>\n",
       "      <th>0</th>\n",
       "      <td>100</td>\n",
       "      <td>50</td>\n",
       "      <td>100</td>\n",
       "      <td>150</td>\n",
       "      <td>75</td>\n",
       "      <td>100</td>\n",
       "      <td>100</td>\n",
       "      <td>100</td>\n",
       "    </tr>\n",
       "  </tbody>\n",
       "</table>"
      ],
      "text/plain": [
       "<IPython.core.display.HTML object>"
      ]
     },
     "metadata": {},
     "output_type": "display_data"
    },
    {
     "data": {
      "text/html": [
       "<H3>Last prices:</H3>"
      ],
      "text/plain": [
       "<IPython.core.display.HTML object>"
      ]
     },
     "metadata": {},
     "output_type": "display_data"
    },
    {
     "data": {
      "text/html": [
       "<table border=\"1\" class=\"dataframe\">\n",
       "  <thead>\n",
       "    <tr style=\"text-align: right;\">\n",
       "      <th></th>\n",
       "      <th>AAPL</th>\n",
       "      <th>ALB</th>\n",
       "      <th>AMZN</th>\n",
       "      <th>JD</th>\n",
       "      <th>MSFT</th>\n",
       "      <th>PDD</th>\n",
       "      <th>ROST</th>\n",
       "      <th>VYM</th>\n",
       "    </tr>\n",
       "    <tr>\n",
       "      <th>Date</th>\n",
       "      <th></th>\n",
       "      <th></th>\n",
       "      <th></th>\n",
       "      <th></th>\n",
       "      <th></th>\n",
       "      <th></th>\n",
       "      <th></th>\n",
       "      <th></th>\n",
       "    </tr>\n",
       "  </thead>\n",
       "  <tbody>\n",
       "    <tr>\n",
       "      <th>2023-01-31 00:00:00-05:00</th>\n",
       "      <td>144.289993</td>\n",
       "      <td>281.450012</td>\n",
       "      <td>103.129997</td>\n",
       "      <td>59.529999</td>\n",
       "      <td>247.809998</td>\n",
       "      <td>97.980003</td>\n",
       "      <td>118.190002</td>\n",
       "      <td>110.769997</td>\n",
       "    </tr>\n",
       "  </tbody>\n",
       "</table>"
      ],
      "text/plain": [
       "<IPython.core.display.HTML object>"
      ]
     },
     "metadata": {},
     "output_type": "display_data"
    }
   ],
   "source": [
    "# Get number of shares in position\n",
    "Shares=pd.DataFrame([[100, 50, 100, 150, 75, 100, 100, 100]], columns=stocks)\n",
    "display(HTML(\"<H3>Portfolio composition:</H3>\"))\n",
    "display(HTML(Shares.to_html()))\n",
    "display(HTML(\"<H3>Last prices:</H3>\"))\n",
    "display(HTML(prices.iloc[-1:].to_html()))"
   ]
  },
  {
   "cell_type": "code",
   "execution_count": 4,
   "id": "175b6981-6cfe-433f-a86c-7839125a1655",
   "metadata": {},
   "outputs": [
    {
     "data": {
      "text/html": [
       "<H3>Potential losses in 1 month:</H3>"
      ],
      "text/plain": [
       "<IPython.core.display.HTML object>"
      ]
     },
     "metadata": {},
     "output_type": "display_data"
    },
    {
     "data": {
      "text/html": [
       "<table border=\"1\" class=\"dataframe\">\n",
       "  <thead>\n",
       "    <tr style=\"text-align: right;\">\n",
       "      <th></th>\n",
       "      <th>AAPL</th>\n",
       "      <th>ALB</th>\n",
       "      <th>AMZN</th>\n",
       "      <th>JD</th>\n",
       "      <th>MSFT</th>\n",
       "      <th>PDD</th>\n",
       "      <th>ROST</th>\n",
       "      <th>VYM</th>\n",
       "    </tr>\n",
       "  </thead>\n",
       "  <tbody>\n",
       "    <tr>\n",
       "      <th>0</th>\n",
       "      <td>-2439.840375</td>\n",
       "      <td>-3537.06404</td>\n",
       "      <td>-2484.3305</td>\n",
       "      <td>-3138.513521</td>\n",
       "      <td>-3167.021966</td>\n",
       "      <td>-4701.116568</td>\n",
       "      <td>-2424.030819</td>\n",
       "      <td>-945.164417</td>\n",
       "    </tr>\n",
       "  </tbody>\n",
       "</table>"
      ],
      "text/plain": [
       "<IPython.core.display.HTML object>"
      ]
     },
     "metadata": {},
     "output_type": "display_data"
    },
    {
     "data": {
      "text/html": [
       "--- Potential total losses : <B>-22837.08</B>."
      ],
      "text/plain": [
       "<IPython.core.display.HTML object>"
      ]
     },
     "metadata": {},
     "output_type": "display_data"
    },
    {
     "data": {
      "text/html": [
       "<H3>Risk contribution:</H3>"
      ],
      "text/plain": [
       "<IPython.core.display.HTML object>"
      ]
     },
     "metadata": {},
     "output_type": "display_data"
    },
    {
     "data": {
      "image/png": "[encoded data removed]",
      "text/plain": [
       "<Figure size 1200x800 with 2 Axes>"
      ]
     },
     "metadata": {},
     "output_type": "display_data"
    }
   ],
   "source": [
    "Losses=pd.DataFrame(np.reshape(VaRs.to_numpy()*prices.iloc[-1].to_numpy()*math.sqrt(21)*Shares.to_numpy(),(1,len(stocks))), columns=stocks)\n",
    "display(HTML(\"<H3>Potential losses in 1 month:</H3>\"))\n",
    "display(HTML(Losses.to_html()))\n",
    "display(HTML(f\"--- Potential total losses : <B>{Losses.sum(axis=1)[0]:6.2f}</B>.\"))\n",
    "display(HTML(\"<H3>Risk contribution:</H3>\"))\n",
    "#palette_color = seaborn.color_palette('pastel')\n",
    "palette_color = seaborn.color_palette('tab20')\n",
    "\n",
    "fig, (ax1, ax2) = plt.subplots(1, 2, figsize=(12, 8))\n",
    "fig.suptitle('Risk and performance attribution')\n",
    "ax1.title.set_text('Risk contribution')\n",
    "ax1.pie(np.reshape((0-Losses).values.tolist(),len(stocks)), labels=Losses.columns, colors=palette_color, autopct='%.0f%%')\n",
    "\n",
    "objects = Losses.columns.to_list()\n",
    "y_pos = np.arange(len(Losses.columns))\n",
    "performance = np.reshape(((prices.iloc[-1].to_numpy()*Shares.to_numpy())-(prices.iloc[0].to_numpy()*Shares.to_numpy()))/(prices.iloc[0].to_numpy()*Shares.to_numpy()), len(objects))*100\n",
    "ax2.title.set_text('Performance contribution')\n",
    "ax2.bar(y_pos, performance, align='center', alpha=1, color=palette_color)\n",
    "ax2.set_xticks(y_pos, objects, rotation=90)\n",
    "\n",
    "#plt.pie(np.reshape((0-Losses).values.tolist(),len(stocks)), labels=Losses.columns, colors=palette_color, autopct='%.0f%%')\n",
    "plt.show()"
   ]
  },
  {
   "cell_type": "code",
   "execution_count": null,
   "id": "c93702ac-a4f3-45bf-88d0-9cc777b9ea96",
   "metadata": {},
   "outputs": [],
   "source": []
  }
 ],
 "metadata": {
  "kernelspec": {
   "display_name": "Python 3 (ipykernel)",
   "language": "python",
   "name": "python3"
  },
  "language_info": {
   "codemirror_mode": {
    "name": "ipython",
    "version": 3
   },
   "file_extension": ".py",
   "mimetype": "text/x-python",
   "name": "python",
   "nbconvert_exporter": "python",
   "pygments_lexer": "ipython3",
   "version": "3.9.15"
  }
 },
 "nbformat": 4,
 "nbformat_minor": 5
}
